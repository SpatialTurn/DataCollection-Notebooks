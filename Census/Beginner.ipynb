{
 "cells": [
  {
   "cell_type": "markdown",
   "id": "294f83cc-cb18-49ca-82b9-1275187ea100",
   "metadata": {},
   "source": [
    "# Query and Download Specified Shapefiles and Tables\n",
    "\n",
    "In this exercise, you will learn how to query spatial data that is in the form of ESRI Shapefiles. In particular, we will work with Census boundary files in the TIGER (Topologically Integrated Geographic Encoding and Referencing) system.\n",
    "\n",
    "We will be using the GeoPandas library to read and query these Shapefiles."
   ]
  },
  {
   "cell_type": "code",
   "execution_count": null,
   "id": "89c3f575-46a9-41d8-825f-9904d8bc54f2",
   "metadata": {},
   "outputs": [],
   "source": [
    "import geopandas as gpd\n",
    "import pandas\n",
    "pandas.set_option('display.max_rows', None)"
   ]
  },
  {
   "cell_type": "markdown",
   "id": "fca0ab6f-0955-43b6-9712-3f90f57eb03e",
   "metadata": {},
   "source": [
    "## Query the state shapefile to determine the STATEFP value for Indiana\n",
    "\n",
    "We have already provided the state boundaries shapefile along with this notebook. Next, we will load up this shapefile and query the **STATEFP** field for the state of Indiana"
   ]
  },
  {
   "cell_type": "code",
   "execution_count": null,
   "id": "7bf7fcab-88dc-48ae-a670-7007115f827f",
   "metadata": {},
   "outputs": [],
   "source": [
    "zipfile = \"zip://./tl_2024_us_state.zip\"\n",
    "states = gpd.read_file(zipfile)"
   ]
  },
  {
   "cell_type": "markdown",
   "id": "4cf08310-06d4-4f1d-8844-80cc7562c296",
   "metadata": {},
   "source": [
    "## Inspecting the data in the shapefile\n",
    "\n",
    "Before running the query, let's first inspect the data available in the shapefile. Here we are inspecting the DataFrame that GeoPandas automatically creates when we open the shapefile using the _read_file_ method."
   ]
  },
  {
   "cell_type": "code",
   "execution_count": null,
   "id": "0be65eca-cc78-439a-a658-e39887847463",
   "metadata": {},
   "outputs": [],
   "source": [
    "states"
   ]
  },
  {
   "cell_type": "markdown",
   "id": "ff1c317b-dbff-44b2-8bb5-1804a0d3f698",
   "metadata": {},
   "source": [
    "Were you able to find the row for Indiana and the value for STATEFP? Let's try and do the same with code now:"
   ]
  },
  {
   "cell_type": "code",
   "execution_count": null,
   "id": "555bb1ca-eeaa-4a44-89e7-4cf8823ccd8e",
   "metadata": {},
   "outputs": [],
   "source": [
    "states[states.STUSPS =='IN']['STATEFP'].values[0]"
   ]
  },
  {
   "cell_type": "markdown",
   "id": "07ca25c8-3511-4ecd-b80a-e22a19f96d75",
   "metadata": {},
   "source": [
    "Let's try to filter down to a few relevant columns rather than print the entire table. Does that make it easier to find the one you are interested in?"
   ]
  },
  {
   "cell_type": "code",
   "execution_count": null,
   "id": "24bd04ab-5247-4d5d-88b3-7746d04cdf05",
   "metadata": {},
   "outputs": [],
   "source": [
    "states[['STUSPS','NAME','STATEFP']]"
   ]
  },
  {
   "cell_type": "markdown",
   "id": "ab46bd10-7878-4e40-b923-64a911834f94",
   "metadata": {},
   "source": [
    "## Exercise 1\n",
    "\n",
    "Download the zip file for the County boundaries, upload it to Jupyter, and repeat the steps above to load the file into a GeoPandas DataFrame"
   ]
  },
  {
   "cell_type": "code",
   "execution_count": null,
   "id": "af0f9a4f-4029-4e23-9581-98535c8dda17",
   "metadata": {},
   "outputs": [],
   "source": [
    "zipfile = \"zip:///home/jovyan/<county zip file name>\"\n",
    "counties = "
   ]
  },
  {
   "cell_type": "markdown",
   "id": "83e2c022-fff0-4feb-9d72-40fe050b1a59",
   "metadata": {},
   "source": [
    "Next, can you write code to query the counties data frame to find the Hamilton county in Indiana? \n",
    "\n",
    "**Hint:** What if you filtered by the _STATEFP_ value for Indiana that you identified previously?\n",
    "\n",
    "**Hint:** Try to only retrieve the columns you need (e.g. COUNTYFP, NAME)\n",
    "\n",
    "Your code should look something like this: \n",
    "\n",
    "``\n",
    "counties[<condition>][[<list of columns>]]\n",
    "``"
   ]
  },
  {
   "cell_type": "code",
   "execution_count": null,
   "id": "9bf429ea-0dc6-4526-84c8-02741055b8b6",
   "metadata": {},
   "outputs": [],
   "source": [
    "# Enter your code here"
   ]
  },
  {
   "cell_type": "markdown",
   "id": "5dcd600e-01a5-4cab-b8d7-4dfccdc84526",
   "metadata": {},
   "source": [
    "It is also possible to combine multiple conditions into a query on the dataframe, try typing in the following into the next cell:\n",
    "\n",
    "``\n",
    "counties.loc[(counties['STATEFP'] == '18') & (counties['NAME'] == 'Hamilton')]['COUNTYFP'].values[0]\n",
    "``"
   ]
  },
  {
   "cell_type": "code",
   "execution_count": null,
   "id": "0707556b-926d-40f4-8a35-4193551034ef",
   "metadata": {},
   "outputs": [],
   "source": [
    "# Enter your code here"
   ]
  },
  {
   "cell_type": "markdown",
   "id": "6d34836f-509a-4771-9842-7257e117115b",
   "metadata": {},
   "source": [
    "## Exercise 2\n",
    "\n",
    "Download the zip file for the Roads in Hamilton county. Next, upload it to Jupyter and read the file using GeoPandas.\n",
    "\n",
    "**Hint:** Use the STATEFP and COUNTYFP codes to identify the right zip file to download. "
   ]
  },
  {
   "cell_type": "code",
   "execution_count": null,
   "id": "6fe427df-59b4-4ed3-ad26-da911e5082a7",
   "metadata": {},
   "outputs": [],
   "source": [
    "zipfile = \"zip:///home/jovyan/tl_2024_18057_roads.zip\"\n",
    "roads = gpd.read_file(zipfile) "
   ]
  },
  {
   "cell_type": "markdown",
   "id": "b1602ea3-ddf7-4d4c-829d-dbe46ea50fe6",
   "metadata": {},
   "source": [
    "Inspect the data frame, but make sure to restrict the number of rows displayed\n",
    "\n",
    "**Hint:** reset display.max_rows to 50"
   ]
  },
  {
   "cell_type": "code",
   "execution_count": null,
   "id": "fd3b5dce-5ca1-47ee-96b6-77442756f1df",
   "metadata": {},
   "outputs": [],
   "source": [
    "# Enter your code here"
   ]
  },
  {
   "cell_type": "markdown",
   "id": "7620b950-47c9-406c-b52c-44d00e0483fd",
   "metadata": {},
   "source": [
    "This shapefile comprises roads of different types. Let's try to figure out what these types are. \n",
    "\n",
    "**Hint:** You can call the unique() function on a particular field from a dataframe to get an array of unique values of that field/column."
   ]
  },
  {
   "cell_type": "code",
   "execution_count": null,
   "id": "cc95690c-f592-4022-9b17-0659d69e91bd",
   "metadata": {},
   "outputs": [],
   "source": [
    "# Enter your code here"
   ]
  },
  {
   "cell_type": "markdown",
   "id": "92bd4bcb-7ff0-4336-93e2-8877fd0534ae",
   "metadata": {},
   "source": [
    "If you want to figure out what these various road types refer to, take a look at the Route Types code list here: https://www.census.gov/library/reference/code-lists.html"
   ]
  },
  {
   "cell_type": "markdown",
   "id": "87a946c4-4362-4556-8740-8765f7e51ddf",
   "metadata": {},
   "source": [
    "## Exercise 3\n",
    "\n",
    "We will now plot the roads of Hamilton county on a map. However, we will only plot roads of a particular type (e.g. interstate)."
   ]
  },
  {
   "cell_type": "code",
   "execution_count": null,
   "id": "5ba3f414-add4-4ea0-8ed3-750908018c76",
   "metadata": {},
   "outputs": [],
   "source": [
    "import folium\n",
    "m = folium.Map(location=[40, -85], zoom_start=8, tiles=\"CartoDB positron\")\n",
    "interstates = roads[roads.RTTYP == 'I']\n",
    "for _, r in interstates.iterrows():\n",
    "    # Without simplifying the representation of each borough,\n",
    "    # the map might not be displayed\n",
    "    sim_geo = gpd.GeoSeries(r[\"geometry\"])\n",
    "    geo_j = sim_geo.to_json()\n",
    "    geo_j = folium.GeoJson(data=geo_j)\n",
    "    folium.Popup(r[\"FULLNAME\"]).add_to(geo_j)\n",
    "    geo_j.add_to(m)\n",
    "m"
   ]
  },
  {
   "cell_type": "code",
   "execution_count": null,
   "id": "d9b5ef8e-56d7-4ac5-8d0e-a79ee4c3a791",
   "metadata": {},
   "outputs": [],
   "source": []
  }
 ],
 "metadata": {
  "kernelspec": {
   "display_name": "iguide",
   "language": "python",
   "name": "iguide"
  },
  "language_info": {
   "codemirror_mode": {
    "name": "ipython",
    "version": 3
   },
   "file_extension": ".py",
   "mimetype": "text/x-python",
   "name": "python",
   "nbconvert_exporter": "python",
   "pygments_lexer": "ipython3",
   "version": "3.8.16"
  }
 },
 "nbformat": 4,
 "nbformat_minor": 5
}
