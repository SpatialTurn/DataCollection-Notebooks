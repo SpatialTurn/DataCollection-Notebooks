{
  "nbformat": 4,
  "nbformat_minor": 0,
  "metadata": {
    "colab": {
      "provenance": []
    },
    "kernelspec": {
      "name": "python3",
      "display_name": "Python 3"
    },
    "language_info": {
      "name": "python"
    }
  },
  "cells": [
    {
      "cell_type": "code",
      "source": [
        "# import statements to download census data\n",
        "import requests\n",
        "import pandas as pd\n",
        "from google.colab import files\n",
        "import json"
      ],
      "metadata": {
        "id": "QsiSMvqYdinq"
      },
      "execution_count": 6,
      "outputs": []
    },
    {
      "cell_type": "markdown",
      "source": [
        "## To download desired dataset first go to : https://api.census.gov/data/2023/acs/acs5/profile/variables.html\n",
        "\n",
        "### Find the \"Name\" code for the desired dataset by pressing \"ctrl + F\" in your keyboard and paste it in user input box after running the code below.\n",
        "\n",
        "#### Note: The link provided is from 2023 and ACS 5 year estimates, the nomenclature followed by U.S. Census Bureau remains the same throughout i.e., the naming is the same for a particular dataset even if it is ACS 1 or 3 year estimate or even if the year is different."
      ],
      "metadata": {
        "id": "jtvNHEI5fSuD"
      }
    },
    {
      "cell_type": "code",
      "execution_count": 4,
      "metadata": {
        "id": "9-5Km16xdgRf"
      },
      "outputs": [],
      "source": [
        "def download_census_data():\n",
        "    print(\"Welcome to Census API Downloader for ACS Profile Data\")\n",
        "    print(\"This script will construct the API URL based on your inputs and download the data as CSV.\")\n",
        "\n",
        "    # Input year\n",
        "    year = input(\"Enter year (2009-2023, default 2023): \") or \"2023\"\n",
        "\n",
        "    # Input ACS type\n",
        "    acs = input(\"Enter ACS type (acs1, acs3, acs5, default acs5): \") or \"acs5\"\n",
        "\n",
        "    # Input variables\n",
        "    variables_str = input(\"Enter variable codes separated by commas (e.g., DP04_0058E,DP03_0062E): \")\n",
        "    variables = [v.strip() for v in variables_str.split(',') if v.strip()]\n",
        "    get_params = 'NAME' + (',' + ','.join(variables) if variables else '')\n",
        "\n",
        "    # Input geography level\n",
        "    level = input(\"Enter geography level (state, county, tract): \").lower()\n",
        "\n",
        "    # Input state\n",
        "    state = input(\"Enter state FIPS code or * for all (e.g., 18 for Indiana): \") or \"*\"\n",
        "\n",
        "    # Input county if needed\n",
        "    county = \"*\"\n",
        "    if level in ['county', 'tract']:\n",
        "        county = input(\"Enter county FIPS code or * for all: \") or \"*\"\n",
        "\n",
        "    # Input tract if needed\n",
        "    tract = \"*\"\n",
        "    if level == 'tract':\n",
        "        tract = input(\"Enter tract code or * for all: \") or \"*\"\n",
        "\n",
        "    # Input API key if any\n",
        "    key = input(\"Enter your Census API key (optional, press enter if none): \")\n",
        "\n",
        "    # Build base URL\n",
        "    base_url = f\"https://api.census.gov/data/{year}/acs/{acs}/profile\"\n",
        "\n",
        "    # Build for and in parameters\n",
        "    for_str = \"\"\n",
        "    in_str = \"\"\n",
        "\n",
        "    if level == 'state':\n",
        "        for_str = f\"state:{state}\"\n",
        "    elif level == 'county':\n",
        "        for_str = f\"county:{county}\"\n",
        "        if state != '*':\n",
        "            in_str = f\"state:{state}\"\n",
        "    elif level == 'tract':\n",
        "        for_str = f\"tract:{tract}\"\n",
        "        in_str = f\"state:{state}\"\n",
        "        if county != '*':\n",
        "            in_str += f\" county:{county}\"\n",
        "        else:\n",
        "            in_str += \" county:*\"\n",
        "    else:\n",
        "        print(\"Invalid level. Exiting.\")\n",
        "        return\n",
        "\n",
        "    # Build full URL with descriptive=true\n",
        "    url = f\"{base_url}?get={get_params}&for={for_str}&descriptive=true\"\n",
        "    if in_str:\n",
        "        url += f\"&in={in_str}\"\n",
        "    if key:\n",
        "        url += f\"&key={key}\"\n",
        "\n",
        "    print(f\"\\nConstructed URL: {url}\")\n",
        "\n",
        "    # Fetch data\n",
        "    try:\n",
        "        response = requests.get(url)\n",
        "        response.raise_for_status()\n",
        "        data = response.json()\n",
        "\n",
        "        if not data or len(data) < 2:\n",
        "            print(\"No data returned.\")\n",
        "            return\n",
        "\n",
        "        # Convert to DataFrame\n",
        "        headers = data[0]\n",
        "        rows = data[1:]\n",
        "        df = pd.DataFrame(rows, columns=headers)\n",
        "\n",
        "        # Save to CSV\n",
        "        csv_filename = f\"census_data_{year}_{acs}_{level}.csv\"\n",
        "        df.to_csv(csv_filename, index=False)\n",
        "\n",
        "        # Download in Colab\n",
        "        files.download(csv_filename)\n",
        "\n",
        "        print(f\"\\nData downloaded successfully as {csv_filename}\")\n",
        "    except requests.exceptions.RequestException as e:\n",
        "        print(f\"Error fetching data: {e}\")\n",
        "    except json.JSONDecodeError:\n",
        "        print(\"Invalid JSON response. The API might not support the requested parameters.\")\n",
        "    except Exception as e:\n",
        "        print(f\"An error occurred: {e}\")"
      ]
    },
    {
      "cell_type": "code",
      "source": [
        "# Run the function\n",
        "download_census_data()"
      ],
      "metadata": {
        "id": "vQ83SYiBdmt5"
      },
      "execution_count": null,
      "outputs": []
    },
    {
      "cell_type": "code",
      "source": [],
      "metadata": {
        "id": "mWIT6lAOdoSB"
      },
      "execution_count": null,
      "outputs": []
    }
  ]
}