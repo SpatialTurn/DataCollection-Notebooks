{
 "cells": [
  {
   "cell_type": "code",
   "execution_count": null,
   "id": "cc58c042-825c-48a1-ac3e-2b0721d525a7",
   "metadata": {},
   "outputs": [],
   "source": [
    "import warnings\n",
    "warnings.filterwarnings('ignore')"
   ]
  },
  {
   "cell_type": "code",
   "execution_count": null,
   "id": "72828fe4-30f4-4f27-9bbe-f56ceb0221bc",
   "metadata": {},
   "outputs": [],
   "source": [
    "# import necessary modules"
   ]
  },
  {
   "cell_type": "code",
   "execution_count": null,
   "id": "c520ed7a-ddf7-4aae-8d74-938519644918",
   "metadata": {},
   "outputs": [],
   "source": []
  },
  {
   "cell_type": "code",
   "execution_count": null,
   "id": "b2fd678b-c8d3-4c73-9a1b-a9d918233671",
   "metadata": {},
   "outputs": [],
   "source": [
    "# import network modules"
   ]
  },
  {
   "cell_type": "code",
   "execution_count": null,
   "id": "53ef7309-1e93-4019-9abb-a11b44b0dc0c",
   "metadata": {},
   "outputs": [],
   "source": [
    "from shapely.geometry import Point\n",
    "from geopy.distance import geodesic"
   ]
  },
  {
   "cell_type": "code",
   "execution_count": null,
   "id": "31fb755a-fa0c-478c-8060-86e1a55f78ff",
   "metadata": {},
   "outputs": [],
   "source": []
  },
  {
   "cell_type": "code",
   "execution_count": null,
   "id": "7fbcc667-4376-46fa-ba16-c4b9d68b3c6d",
   "metadata": {},
   "outputs": [],
   "source": [
    "graph = ox.graph_from_place(\"??????\", network_type=\"drive\") # change to desired city"
   ]
  },
  {
   "cell_type": "markdown",
   "id": "d61f436c-a963-43bb-9a05-de23c0737a9b",
   "metadata": {},
   "source": [
    "### Check Layout of the city"
   ]
  },
  {
   "cell_type": "code",
   "execution_count": null,
   "id": "65b4784a-d3ca-4a30-a804-e104617d9aea",
   "metadata": {},
   "outputs": [],
   "source": [
    "ox.plot_graph(graph)"
   ]
  },
  {
   "cell_type": "code",
   "execution_count": null,
   "id": "a2df79fd-59d7-42e4-8687-5b5146205c7c",
   "metadata": {},
   "outputs": [],
   "source": []
  },
  {
   "cell_type": "markdown",
   "id": "8eb32a42-2c3d-4d3a-a3b7-3e66b0a0856e",
   "metadata": {},
   "source": [
    "### Get info on points of interests for the city. \n",
    "#### This would be break points and roads etc. "
   ]
  },
  {
   "cell_type": "code",
   "execution_count": null,
   "id": "2016865a-2c0a-479d-8df5-4d472381b686",
   "metadata": {},
   "outputs": [],
   "source": [
    "nodes, edges = ox.graph_to_gdfs(graph)"
   ]
  },
  {
   "cell_type": "code",
   "execution_count": null,
   "id": "e6d4873f-e98b-4966-81da-7eb11e188eb2",
   "metadata": {},
   "outputs": [],
   "source": [
    "nodes.plot()"
   ]
  },
  {
   "cell_type": "code",
   "execution_count": null,
   "id": "77d06e65-f749-4968-89f1-a592b21115bc",
   "metadata": {},
   "outputs": [],
   "source": [
    "edges.plot()"
   ]
  },
  {
   "cell_type": "code",
   "execution_count": null,
   "id": "950d974d-6818-48b4-9acb-86c3b370645b",
   "metadata": {},
   "outputs": [],
   "source": []
  },
  {
   "cell_type": "markdown",
   "id": "c8505af5-567f-4d3d-b7a0-9e9ea19684e0",
   "metadata": {},
   "source": [
    "### Map the POIs"
   ]
  },
  {
   "cell_type": "code",
   "execution_count": null,
   "id": "81f5c81b-8360-49f3-8cec-e8a55145819d",
   "metadata": {},
   "outputs": [],
   "source": [
    "graph = ox.add_edge_speeds(graph)"
   ]
  },
  {
   "cell_type": "code",
   "execution_count": null,
   "id": "5e3a6670-c101-41bc-a5c9-44089c0f9173",
   "metadata": {},
   "outputs": [],
   "source": [
    "graph = ox.add_edge_travel_times(graph)"
   ]
  },
  {
   "cell_type": "code",
   "execution_count": null,
   "id": "062fba0f-f56d-4d5a-bd37-98ef32dba9bb",
   "metadata": {},
   "outputs": [],
   "source": []
  },
  {
   "cell_type": "code",
   "execution_count": null,
   "id": "ae4a1d01-6d0a-4ec1-ad46-80b60d8b2a9a",
   "metadata": {},
   "outputs": [],
   "source": [
    "coords = ...... # replace this location you want to path to center of the city\n",
    "random_node = ox.nearest_nodes(graph, X=coords[1], Y=coords[0])\n",
    "print(random_node)"
   ]
  },
  {
   "cell_type": "markdown",
   "id": "91369e29-ab3b-4eb9-9fa6-f6158ece99fd",
   "metadata": {},
   "source": [
    "### Highlight that node"
   ]
  },
  {
   "cell_type": "code",
   "execution_count": null,
   "id": "b3195ea6-9a1c-41f5-a963-a37cf16613c7",
   "metadata": {},
   "outputs": [],
   "source": [
    "node_colors = ['red' if node == random_node else 'white' for node in graph.nodes()] # color that node red \n",
    "# plot the colored node"
   ]
  },
  {
   "cell_type": "code",
   "execution_count": null,
   "id": "e374f062-cf86-418e-ae8f-2cab716fe2ae",
   "metadata": {},
   "outputs": [],
   "source": []
  },
  {
   "cell_type": "code",
   "execution_count": null,
   "id": "c968932f-2681-4d3a-bf81-b2ef7d1e5534",
   "metadata": {},
   "outputs": [],
   "source": [
    "distances = nx.single_source_dijkstra_path_length(graph,\n",
    "                                                  random_node,\n",
    "                                                  weight=\"travel_time\")"
   ]
  },
  {
   "cell_type": "code",
   "execution_count": null,
   "id": "e5c3e4e5-378a-4029-a9b5-c24b92deebe9",
   "metadata": {},
   "outputs": [],
   "source": [
    "nx.set_node_attributes(graph, distances, \"time2nhb\")"
   ]
  },
  {
   "cell_type": "markdown",
   "id": "9cc25e01-437a-432e-bf70-bea556fc15c5",
   "metadata": {},
   "source": [
    "### A cool way to generate a heat map of distance from the highlighted node for the whole city\n",
    "\n",
    "#### Sometimes a node maybe missing a value, we can assign them 0 so to avoid potential errors. Or ignore them completely. "
   ]
  },
  {
   "cell_type": "code",
   "execution_count": null,
   "id": "1bd5edaa-7c14-4bca-a6b5-a2b58732dfdb",
   "metadata": {},
   "outputs": [],
   "source": [
    "# Get node attributes\n",
    "attr_values = nx.get_node_attributes(graph, \"time2nhb\")\n",
    "nodes = list(graph.nodes())\n",
    "# Only include nodes with the attribute\n",
    "node_values = [attr_values[node] for node in nodes if node in attr_values]\n",
    "\n",
    "# Normalize the values to the range [0, 1]\n",
    "norm = Normalize(vmin=min(node_values), vmax=max(node_values), clip=True)\n",
    "normalized_values = norm(node_values)\n",
    "\n",
    "# Get a colormap\n",
    "colormap = cm.get_cmap('????') ## choose a color pallete\n",
    "\n",
    "# Apply the colormap to the normalized values\n",
    "node_colors = colormap(normalized_values)\n",
    "\n",
    "# Plot the graph with node colors, only for nodes with attributes"
   ]
  },
  {
   "cell_type": "code",
   "execution_count": null,
   "id": "5b64e7b0-b511-4c6c-9cc0-5fff9af66ac7",
   "metadata": {},
   "outputs": [],
   "source": []
  },
  {
   "cell_type": "markdown",
   "id": "b77d4492-17c2-45d8-bb6a-b6b3543dd441",
   "metadata": {},
   "source": [
    "### Calculate the Centroid"
   ]
  },
  {
   "cell_type": "code",
   "execution_count": null,
   "id": "930d4473-4d60-4089-b308-433ec2502f27",
   "metadata": {},
   "outputs": [],
   "source": [
    "# Extract node positions and calculate the centroid\n",
    "node_positions = np.array([[data['x'], data['y']] for _, data in graph.nodes(data=True)])\n",
    "centroid = node_positions.mean(axis=0)\n",
    "centroid_node = ox.nearest_nodes(graph, X=centroid[0], Y=centroid[1])"
   ]
  },
  {
   "cell_type": "code",
   "execution_count": null,
   "id": "39133a2f-52fd-4d6d-8f88-f3c8ef7eb71e",
   "metadata": {},
   "outputs": [],
   "source": [
    "# Calculate travel distance and time from the centroid to the specified coordinates\n",
    "travel_time_from_centroid = distances.get(centroid_node, None)\n",
    "travel_distance_from_centroid = nx.shortest_path_length(graph, source=centroid_node, target=random_node, weight='length')"
   ]
  },
  {
   "cell_type": "code",
   "execution_count": null,
   "id": "098bc335-2a5f-43e7-9a1f-9d6968383143",
   "metadata": {},
   "outputs": [],
   "source": []
  },
  {
   "cell_type": "code",
   "execution_count": null,
   "id": "d5a036df-d5b1-47c2-a344-ce5d065c8984",
   "metadata": {},
   "outputs": [],
   "source": [
    "# Print the distance results\n",
    "print(f\"..........\")"
   ]
  },
  {
   "cell_type": "code",
   "execution_count": null,
   "id": "55043d10-484f-4816-8df6-3a1fae58cfae",
   "metadata": {},
   "outputs": [],
   "source": []
  },
  {
   "cell_type": "markdown",
   "id": "f97d62df-d79c-4ffa-b369-bf4ae70eba1b",
   "metadata": {},
   "source": [
    "### Map out the path to Centroid"
   ]
  },
  {
   "cell_type": "code",
   "execution_count": null,
   "id": "3f229ca2-f295-44aa-a4a6-578560540da7",
   "metadata": {},
   "outputs": [],
   "source": [
    "# Get the shortest path route\n",
    "\n",
    "# Plot the graph with the shortest path\n"
   ]
  }
 ],
 "metadata": {
  "kernelspec": {
   "display_name": "Python 3 (ipykernel)",
   "language": "python",
   "name": "python3"
  },
  "language_info": {
   "codemirror_mode": {
    "name": "ipython",
    "version": 3
   },
   "file_extension": ".py",
   "mimetype": "text/x-python",
   "name": "python",
   "nbconvert_exporter": "python",
   "pygments_lexer": "ipython3",
   "version": "3.10.14"
  }
 },
 "nbformat": 4,
 "nbformat_minor": 5
}
