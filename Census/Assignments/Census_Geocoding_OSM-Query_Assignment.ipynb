{
 "cells": [
  {
   "cell_type": "code",
   "execution_count": null,
   "id": "7e3fcd9c-5d13-4730-a46a-0b8c8605d8f7",
   "metadata": {},
   "outputs": [],
   "source": [
    "import warnings\n",
    "warnings.filterwarnings('ignore')"
   ]
  },
  {
   "cell_type": "code",
   "execution_count": null,
   "id": "054ff757-dd24-4764-b59d-a150db1bc5ef",
   "metadata": {},
   "outputs": [],
   "source": [
    "# importing necessary modules"
   ]
  },
  {
   "cell_type": "markdown",
   "id": "796fcd9d-03b4-466c-bea7-0289fa40219c",
   "metadata": {},
   "source": [
    "### Geocoding API is a service that allows you to convert addresses into a geographic coordinates which you can use to place markers on a map. This service is currently available for the USA only. "
   ]
  },
  {
   "cell_type": "markdown",
   "id": "ff66cbd3-b1db-4fd1-99e7-23ff5e68ade6",
   "metadata": {},
   "source": [
    "### This can be achieved in batch mode i.e., multiple addresses at once and convert them to geographic coordinates. The compatible file formats to accomplish this task includes .csv, .txt, .dat, and .xlsx files. "
   ]
  },
  {
   "cell_type": "code",
   "execution_count": null,
   "id": "c4f64cd9-ccfa-4b75-92ec-2d6cac638226",
   "metadata": {},
   "outputs": [],
   "source": [
    "def get_coordinates(address):\n",
    "    base_url = \"https://geocoding.geo.census.gov/geocoder/locations/onelineaddress\"\n",
    "    params = {\n",
    "        \"address\": address,\n",
    "        \"benchmark\": \"4\", # Public_AR_Current\n",
    "        \"format\": \"json\"\n",
    "    }\n",
    "    response = requests.get(base_url, params=params)\n",
    "    if response.status_code == 200:\n",
    "        data = response.json()\n",
    "        matches = data.get(\"result\", {}).get(\"addressMatches\", [])\n",
    "        if matches:\n",
    "            coordinates = matches[0][\"coordinates\"]\n",
    "            return coordinates[\"y\"], coordinates[\"x\"]\n",
    "    return None, None"
   ]
  },
  {
   "cell_type": "markdown",
   "id": "c90ab388-8392-4909-b0cd-5f4430cd119d",
   "metadata": {},
   "source": [
    "### Using .txt file as an example with names of random Museums in the United States as an example. "
   ]
  },
  {
   "cell_type": "code",
   "execution_count": null,
   "id": "e3b9a43a-889f-4ca9-b093-b5630ff1439c",
   "metadata": {},
   "outputs": [],
   "source": [
    "# Read the text file\n",
    "file_path = ....\n",
    "df = pd.read_csv(file_path, delimiter=???, header=None)  # assuming \"\\t\" tab-delimited file , replace with \",\" if comma seperated \n",
    "\n",
    "# Rename Columns if Needed\n",
    "df.columns = [\"\", \"\"]"
   ]
  },
  {
   "cell_type": "code",
   "execution_count": null,
   "id": "867818e7-0e90-4c0e-a84e-92972e924580",
   "metadata": {},
   "outputs": [],
   "source": []
  },
  {
   "cell_type": "code",
   "execution_count": null,
   "id": "46e2241a-6831-4f38-87c7-e9c57bc0819a",
   "metadata": {},
   "outputs": [],
   "source": [
    "# Get coordinates for each address\n",
    "df[\"Latitude\"], df[\"Longitude\"] = zip(*df[\"????\"].apply(get_coordinates)) # get the coordinates based on address\n",
    "\n",
    "# Convert to GeoDataFrame\n",
    "gdf = gpd.GeoDataFrame(df, geometry=gpd.points_from_xy(df.Longitude, df.Latitude), crs=\"EPSG:4326\")"
   ]
  },
  {
   "cell_type": "code",
   "execution_count": null,
   "id": "6e3209a6-6969-4326-b8e7-e2bb54734ae4",
   "metadata": {},
   "outputs": [],
   "source": [
    "# display the data\n",
    "df"
   ]
  },
  {
   "cell_type": "code",
   "execution_count": null,
   "id": "fc3e06f4-fb04-4409-ae22-28a2b8b0dddc",
   "metadata": {},
   "outputs": [],
   "source": [
    "# Create map\n",
    "m = folium.Map(location=[df[\"Latitude\"].mean(), df[\"Longitude\"].mean()], zoom_start=4)\n",
    "\n",
    "# Add markers for each location\n",
    "for _, row in df.iterrows():\n",
    "    if not np.isnan(row[\"Latitude\"]) and not np.isnan(row[\"Longitude\"]):\n",
    "        folium.Marker(\n",
    "            location=[row[\"Latitude\"], row[\"Longitude\"]],\n",
    "            popup=row[\"Address\"],\n",
    "            tooltip=row[\"Address\"]\n",
    "        ).add_to(m)"
   ]
  },
  {
   "cell_type": "code",
   "execution_count": null,
   "id": "bee810b7-8baa-4568-ac06-74ee442226b5",
   "metadata": {},
   "outputs": [],
   "source": [
    "m"
   ]
  },
  {
   "cell_type": "markdown",
   "id": "33f794df-be0d-425a-8c97-f255b70238a1",
   "metadata": {},
   "source": [
    "## Using Open Street Map to map out POI"
   ]
  },
  {
   "cell_type": "code",
   "execution_count": null,
   "id": "59011a2c-92b7-42de-838b-7db418fb52b6",
   "metadata": {},
   "outputs": [],
   "source": []
  },
  {
   "cell_type": "markdown",
   "id": "d8f1bf62-cdf8-4543-8186-9bd8e43b7fa3",
   "metadata": {},
   "source": [
    "### Function to automate query in Open Streeet Map using Overpass Api. \n",
    "More information about how to geocode with OSM can be found here. https://wiki.openstreetmap.org/wiki/Overpass_API?form=MG0AV3#Introduction"
   ]
  },
  {
   "cell_type": "markdown",
   "id": "b845fc08-1497-4838-aa59-4a6a389ec9ce",
   "metadata": {},
   "source": [
    "#### Function to pass the query to Overpass API"
   ]
  },
  {
   "cell_type": "markdown",
   "id": "d657b6c3-03c5-499c-925c-26047a7bd4c7",
   "metadata": {},
   "source": [
    "#### For correct Query Input visit: https://wiki.openstreetmap.org/wiki/Map_features"
   ]
  },
  {
   "cell_type": "markdown",
   "id": "3742413e-ce88-428d-9120-9fb5e703f6a9",
   "metadata": {},
   "source": [
    "##### Store names like \"Target\", \"Wallmart\" wouldn't work in this case. We have to be more generic or specify Brand. "
   ]
  },
  {
   "cell_type": "code",
   "execution_count": null,
   "id": "092807af-cf21-4b89-ae77-a50993c65b06",
   "metadata": {},
   "outputs": [],
   "source": [
    "def get_locations(categories, queries, cities, state, country, brand=None):\n",
    "    \"\"\"Fetch locations from OpenStreetMap using Overpass API.\"\"\"\n",
    "    overpass_url = \"http://overpass-api.de/api/interpreter\"\n",
    "    all_locations = []\n",
    "\n",
    "    # Construct the optional brand filter\n",
    "    brand_filter = f'[\"brand\"=\"{brand}\"]' if brand else ''\n",
    "\n",
    "    # Handle multiple categories, queries, and cities\n",
    "    if not categories or not queries or not cities:\n",
    "        print(\"No categories, queries, or cities provided.\")\n",
    "        return []\n",
    "\n",
    "    for category in categories:\n",
    "        for city in cities:\n",
    "            for query in queries:\n",
    "                overpass_query = f\"\"\"\n",
    "                [out:json];\n",
    "                area[name=\"{city}\"]->.searchArea;\n",
    "                (\n",
    "                  node[\"{category}\"=\"{query}\"]{brand_filter}(area.searchArea);\n",
    "                  way[\"{category}\"=\"{query}\"]{brand_filter}(area.searchArea);\n",
    "                  relation[\"{category}\"=\"{query}\"]{brand_filter}(area.searchArea);\n",
    "                );\n",
    "                out center;\n",
    "                \"\"\"\n",
    "                \n",
    "                try:\n",
    "                    response = requests.get(overpass_url, params={'data': overpass_query})\n",
    "                    response.raise_for_status()\n",
    "                    data = response.json()\n",
    "                    all_locations.extend(data.get(\"elements\", []))\n",
    "                except requests.exceptions.RequestException as e:\n",
    "                    print(f\"Request error for {category}={query} in {city}: {e}\")\n",
    "                except requests.exceptions.JSONDecodeError:\n",
    "                    print(f\"Error decoding JSON response from API for {category}={query} in {city}.\")\n",
    "\n",
    "    return all_locations"
   ]
  },
  {
   "cell_type": "code",
   "execution_count": null,
   "id": "89083bc9-be84-40b6-9c48-aca7852b0e2c",
   "metadata": {},
   "outputs": [],
   "source": [
    "def plot_locations(data, city, state, country):\n",
    "    \"\"\"Plot locations on a Folium map.\"\"\"\n",
    "    if not data:\n",
    "        print(\"No locations found.\")\n",
    "        return None\n",
    "\n",
    "    # Extract the first valid location for map centering\n",
    "    for place in data:\n",
    "        lat = place.get('lat') or (place.get('center', {}).get('lat'))\n",
    "        lon = place.get('lon') or (place.get('center', {}).get('lon'))\n",
    "        if lat and lon:\n",
    "            m = folium.Map(location=[lat, lon], zoom_start=12)\n",
    "            break\n",
    "    else:\n",
    "        print(\"No valid coordinates found.\")\n",
    "        return None\n",
    "\n",
    "    # Add markers\n",
    "    for place in data:\n",
    "        lat = place.get('lat') or (place.get('center', {}).get('lat'))\n",
    "        lon = place.get('lon') or (place.get('center', {}).get('lon'))\n",
    "        if lat and lon:\n",
    "            name = place.get('tags', {}).get('name', 'Unknown')\n",
    "            folium.Marker([lat, lon], popup=f\"{name} ({lat}, {lon})\").add_to(m)\n",
    "\n",
    "    return m"
   ]
  },
  {
   "cell_type": "code",
   "execution_count": null,
   "id": "3407ddbe-ca5e-403b-9962-95fabc460056",
   "metadata": {},
   "outputs": [],
   "source": [
    "def display_locations(data):\n",
    "    \"\"\"Display location names with coordinates in a DataFrame.\"\"\"\n",
    "    locations = []\n",
    "    for place in data:\n",
    "        lat = place.get('lat') or (place.get('center', {}).get('lat'))\n",
    "        lon = place.get('lon') or (place.get('center', {}).get('lon'))\n",
    "        if lat and lon:\n",
    "            name = place.get('tags', {}).get('name', 'Unknown')\n",
    "            locations.append([name, lat, lon])\n",
    "    \n",
    "    df = pd.DataFrame(locations, columns=['Name', 'Latitude', 'Longitude'])\n",
    "    return df"
   ]
  },
  {
   "cell_type": "code",
   "execution_count": null,
   "id": "de8443bc-3b68-47d6-9e9c-93980c532ac2",
   "metadata": {},
   "outputs": [],
   "source": [
    "# Example Query Parameters\n",
    "category = ...\n",
    "queries = [....]\n",
    "cities = [.....]\n",
    "state = \"\"\n",
    "country = \"\"\n",
    "brand = None \n",
    "\n",
    "# Fetch Data\n",
    "data = get_locations(category, queries, cities, state, country, brand)\n",
    "\n",
    "# Plot Data on Map\n",
    "map_result = plot_locations(data, cities[0] if cities else None, state, country)\n",
    "\n",
    "# Display DataFrame of Locations\n",
    "df_locations = display_locations(data)\n",
    "\n",
    "# Display the map and data\n",
    "if map_result:\n",
    "    display(map_result)"
   ]
  },
  {
   "cell_type": "code",
   "execution_count": null,
   "id": "b3512c9f-31f7-43a2-92c2-96137d2c6e66",
   "metadata": {},
   "outputs": [],
   "source": []
  },
  {
   "cell_type": "code",
   "execution_count": null,
   "id": "3566246c-58b8-4d79-a66e-9b120c437a8d",
   "metadata": {},
   "outputs": [],
   "source": [
    "df_locations"
   ]
  }
 ],
 "metadata": {
  "kernelspec": {
   "display_name": "Python 3 (ipykernel)",
   "language": "python",
   "name": "python3"
  },
  "language_info": {
   "codemirror_mode": {
    "name": "ipython",
    "version": 3
   },
   "file_extension": ".py",
   "mimetype": "text/x-python",
   "name": "python",
   "nbconvert_exporter": "python",
   "pygments_lexer": "ipython3",
   "version": "3.10.14"
  }
 },
 "nbformat": 4,
 "nbformat_minor": 5
}
