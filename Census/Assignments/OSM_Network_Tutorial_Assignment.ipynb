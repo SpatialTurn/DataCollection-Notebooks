{
 "cells": [
  {
   "cell_type": "markdown",
   "id": "3b48c896-e10a-42fa-8ef1-7b3316c1bc33",
   "metadata": {},
   "source": [
    "# Using OSM Fetched Data to Perform Network Analysis. "
   ]
  },
  {
   "cell_type": "code",
   "execution_count": null,
   "id": "7e3fcd9c-5d13-4730-a46a-0b8c8605d8f7",
   "metadata": {},
   "outputs": [],
   "source": [
    "import warnings\n",
    "warnings.filterwarnings('ignore')"
   ]
  },
  {
   "cell_type": "code",
   "execution_count": null,
   "id": "054ff757-dd24-4764-b59d-a150db1bc5ef",
   "metadata": {},
   "outputs": [],
   "source": [
    "# importing necessary modules"
   ]
  },
  {
   "cell_type": "code",
   "execution_count": null,
   "id": "59011a2c-92b7-42de-838b-7db418fb52b6",
   "metadata": {},
   "outputs": [],
   "source": []
  },
  {
   "cell_type": "markdown",
   "id": "1991fdd3-c7db-4087-8562-a33575fe3c6b",
   "metadata": {},
   "source": [
    "## Step 1"
   ]
  },
  {
   "cell_type": "markdown",
   "id": "d8f1bf62-cdf8-4543-8186-9bd8e43b7fa3",
   "metadata": {},
   "source": [
    "### Function to automate query in Open Streeet Map using Overpass Api. \n",
    "More information about how to geocode with OSM can be found here. https://wiki.openstreetmap.org/wiki/Overpass_API?form=MG0AV3#Introduction"
   ]
  },
  {
   "cell_type": "markdown",
   "id": "d657b6c3-03c5-499c-925c-26047a7bd4c7",
   "metadata": {},
   "source": [
    "#### For correct Query Input visit: https://wiki.openstreetmap.org/wiki/Map_features"
   ]
  },
  {
   "cell_type": "markdown",
   "id": "3742413e-ce88-428d-9120-9fb5e703f6a9",
   "metadata": {},
   "source": [
    "##### Store names like \"Target\", \"Wallmart\" wouldn't work in this case. We have to be more generic or specify Brand. "
   ]
  },
  {
   "cell_type": "code",
   "execution_count": null,
   "id": "092807af-cf21-4b89-ae77-a50993c65b06",
   "metadata": {},
   "outputs": [],
   "source": [
    "def get_locations(categories, queries, cities, state, country, brand=None):\n",
    "    \"\"\"Fetch locations from OpenStreetMap using Overpass API.\"\"\"\n",
    "    overpass_url = \"http://overpass-api.de/api/interpreter\"\n",
    "    all_locations = []\n",
    "\n",
    "    # Construct the optional brand filter\n",
    "    brand_filter = f'[\"brand\"=\"{brand}\"]' if brand else ''\n",
    "\n",
    "    # Handle multiple categories, queries, and cities\n",
    "    if not categories or not queries or not cities:\n",
    "        print(\"No categories, queries, or cities provided.\")\n",
    "        return []\n",
    "\n",
    "    for category in categories:\n",
    "        for city in cities:\n",
    "            for query in queries:\n",
    "                overpass_query = f\"\"\"\n",
    "                [out:json];\n",
    "                area[name=\"{city}\"]->.searchArea;\n",
    "                (\n",
    "                  node[\"{category}\"=\"{query}\"]{brand_filter}(area.searchArea);\n",
    "                  way[\"{category}\"=\"{query}\"]{brand_filter}(area.searchArea);\n",
    "                  relation[\"{category}\"=\"{query}\"]{brand_filter}(area.searchArea);\n",
    "                );\n",
    "                out center;\n",
    "                \"\"\"\n",
    "                \n",
    "                try:\n",
    "                    response = requests.get(overpass_url, params={'data': overpass_query})\n",
    "                    response.raise_for_status()\n",
    "                    data = response.json()\n",
    "                    all_locations.extend(data.get(\"elements\", []))\n",
    "                except requests.exceptions.RequestException as e:\n",
    "                    print(f\"Request error for {category}={query} in {city}: {e}\")\n",
    "                except requests.exceptions.JSONDecodeError:\n",
    "                    print(f\"Error decoding JSON response from API for {category}={query} in {city}.\")\n",
    "\n",
    "    return all_locations"
   ]
  },
  {
   "cell_type": "code",
   "execution_count": null,
   "id": "89083bc9-be84-40b6-9c48-aca7852b0e2c",
   "metadata": {},
   "outputs": [],
   "source": [
    "def plot_locations(data, city, state, country):\n",
    "    \"\"\"Plot locations on a Folium map.\"\"\"\n",
    "    if not data:\n",
    "        print(\"No locations found.\")\n",
    "        return None\n",
    "\n",
    "    # Extract the first valid location for map centering\n",
    "    for place in data:\n",
    "        lat = place.get('lat') or (place.get('center', {}).get('lat'))\n",
    "        lon = place.get('lon') or (place.get('center', {}).get('lon'))\n",
    "        if lat and lon:\n",
    "            m = folium.Map(location=[lat, lon], zoom_start=12)\n",
    "            break\n",
    "    else:\n",
    "        print(\"No valid coordinates found.\")\n",
    "        return None\n",
    "\n",
    "    # Add markers\n",
    "    for place in data:\n",
    "        lat = place.get('lat') or (place.get('center', {}).get('lat'))\n",
    "        lon = place.get('lon') or (place.get('center', {}).get('lon'))\n",
    "        if lat and lon:\n",
    "            name = place.get('tags', {}).get('name', 'Unknown')\n",
    "            folium.Marker([lat, lon], popup=f\"{name} ({lat}, {lon})\").add_to(m)\n",
    "\n",
    "    return m"
   ]
  },
  {
   "cell_type": "code",
   "execution_count": null,
   "id": "3407ddbe-ca5e-403b-9962-95fabc460056",
   "metadata": {},
   "outputs": [],
   "source": [
    "def display_locations(data):\n",
    "    \"\"\"Display location names with coordinates in a DataFrame.\"\"\"\n",
    "    locations = []\n",
    "    for place in data:\n",
    "        lat = place.get('lat') or (place.get('center', {}).get('lat'))\n",
    "        lon = place.get('lon') or (place.get('center', {}).get('lon'))\n",
    "        if lat and lon:\n",
    "            name = place.get('tags', {}).get('name', 'Unknown')\n",
    "            locations.append([name, lat, lon])\n",
    "    \n",
    "    df = pd.DataFrame(locations, columns=['Name', 'Latitude', 'Longitude'])\n",
    "    return df"
   ]
  },
  {
   "cell_type": "code",
   "execution_count": null,
   "id": "de8443bc-3b68-47d6-9e9c-93980c532ac2",
   "metadata": {},
   "outputs": [],
   "source": [
    "# Example Query Parameters\n",
    "category = .....\n",
    "queries = ......\n",
    "cities = ....\n",
    "state = ....\n",
    "country = ....\n",
    "brand = None  # Change to \"Walmart\" or \"Target\" if needed or None \n",
    "\n",
    "# Fetch Data\n",
    "data = get_locations(category, queries, cities, state, country, brand)\n",
    "\n",
    "# Plot Data on Map\n",
    "map_result = plot_locations(data, cities[0] if cities else None, state, country)\n",
    "\n",
    "# Display DataFrame of Locations\n",
    "df_locations = display_locations(data)\n",
    "\n",
    "# Display the map and data\n",
    "if map_result:\n",
    "    display(map_result)"
   ]
  },
  {
   "cell_type": "code",
   "execution_count": null,
   "id": "3566246c-58b8-4d79-a66e-9b120c437a8d",
   "metadata": {},
   "outputs": [],
   "source": []
  },
  {
   "cell_type": "markdown",
   "id": "6b672c8c-7434-4f79-a96a-92c9d74870ac",
   "metadata": {},
   "source": [
    "## Step 2"
   ]
  },
  {
   "cell_type": "markdown",
   "id": "92efec0e-7709-4dfc-88ca-0be8b21ec6b9",
   "metadata": {},
   "source": [
    "#### Using OSMNX module fetch the data of an area of Interest "
   ]
  },
  {
   "cell_type": "code",
   "execution_count": null,
   "id": "3ed29e3b-ed54-4470-951e-0298cca6379e",
   "metadata": {},
   "outputs": [],
   "source": [
    "# Hint: ox.graph_from_place"
   ]
  },
  {
   "cell_type": "code",
   "execution_count": null,
   "id": "940aba08-fde3-4aad-8fc1-f765bac13b1b",
   "metadata": {},
   "outputs": [],
   "source": [
    "# Plot the Road Network of the Area"
   ]
  },
  {
   "cell_type": "code",
   "execution_count": null,
   "id": "fa74b67d-55f1-4f81-8883-3c3ffd11ea13",
   "metadata": {},
   "outputs": [],
   "source": []
  },
  {
   "cell_type": "code",
   "execution_count": null,
   "id": "c0965365-f40a-49e3-ae1b-112babacb67a",
   "metadata": {},
   "outputs": [],
   "source": [
    "# Add the Edge Speeds and Travel Times"
   ]
  },
  {
   "cell_type": "code",
   "execution_count": null,
   "id": "4dc77ce5-d268-4e55-8bd4-2d55152afd56",
   "metadata": {},
   "outputs": [],
   "source": []
  },
  {
   "cell_type": "code",
   "execution_count": null,
   "id": "426baffa-1529-4ff6-b057-f8f7215dc82e",
   "metadata": {},
   "outputs": [],
   "source": [
    "# Extract node positions and calculate the centroid\n",
    "node_positions = np.array([[data['x'], data['y']] for _, data in graph.nodes(data=True)])\n",
    "centroid = node_positions.mean(axis=0)\n",
    "centroid_node = ox.nearest_nodes(graph, X=centroid[0], Y=centroid[1])"
   ]
  },
  {
   "cell_type": "code",
   "execution_count": null,
   "id": "9b8ff8da-93b7-43e0-9135-59354b00d5c5",
   "metadata": {},
   "outputs": [],
   "source": [
    "# Define a colormap to assign colors dynamically\n",
    "# get the total number of locations and assign it to a variable\n",
    "#colormap = cm.get_cmap('tab20', ????)\n",
    "colors = [colormap(i) for i in range(num_locations)]"
   ]
  },
  {
   "cell_type": "code",
   "execution_count": null,
   "id": "2c953cdb-50e6-4dd0-b606-5e022155cbbe",
   "metadata": {},
   "outputs": [],
   "source": []
  },
  {
   "cell_type": "code",
   "execution_count": null,
   "id": "10227efa-ab9c-475a-accf-a80516dc67a7",
   "metadata": {},
   "outputs": [],
   "source": [
    "# Create lists to store travel distances and times\n",
    "travel_distances = []\n",
    "travel_times = []\n",
    "\n",
    "# Plot the graph\n",
    "fig, ax = ox.plot_graph(graph, bgcolor=\"white\", node_size=0, edge_color=\"black\", edge_linewidth=0.5, show=False, close=False)\n",
    "\n",
    "# Loop through each location and plot the shortest path to the centroid\n",
    "for idx, row in df_locations.iterrows():\n",
    "    \n",
    "    # Find the nearest node to the location coordinates\n",
    "    \n",
    "    # Calculate the shortest path route\n",
    "    \n",
    "    # Calculate the travel distance and time\n",
    "\n",
    "    # Append the results to the lists\n",
    "    travel_distances.append(travel_distance)\n",
    "    travel_times.append(travel_time)\n",
    "    \n",
    "    # Plot the route with different colors\n",
    "    ox.plot_graph_route(graph, route, route_color=colors[idx], route_linewidth=5, ax=ax, show=False, close=False)\n",
    "\n",
    "# Highlight the centroid with a red dot\n",
    "ax.scatter(centroid[0], centroid[1], ?????)\n",
    "\n",
    "# Add a legend"
   ]
  },
  {
   "cell_type": "code",
   "execution_count": null,
   "id": "a17d04e0-7752-4c6e-8ac4-27d9c8107dea",
   "metadata": {},
   "outputs": [],
   "source": []
  },
  {
   "cell_type": "code",
   "execution_count": null,
   "id": "1fa76f0a-f76b-4c8c-8e05-7b5ec269869f",
   "metadata": {},
   "outputs": [],
   "source": [
    "# Create a DataFrame to display the travel distances and times\n",
    "results_df = pd.DataFrame({\n",
    "    'Name': df_locations['Name'],\n",
    "    'Travel Distance (meters)': travel_distances,\n",
    "    'Travel Time (seconds)': travel_times\n",
    "})\n",
    "\n",
    "# Display the results DataFrame\n",
    "display(results_df)"
   ]
  },
  {
   "cell_type": "code",
   "execution_count": null,
   "id": "d88d7ded-8078-4c43-823b-4c97d7074378",
   "metadata": {},
   "outputs": [],
   "source": []
  }
 ],
 "metadata": {
  "kernelspec": {
   "display_name": "Python 3 (ipykernel)",
   "language": "python",
   "name": "python3"
  },
  "language_info": {
   "codemirror_mode": {
    "name": "ipython",
    "version": 3
   },
   "file_extension": ".py",
   "mimetype": "text/x-python",
   "name": "python",
   "nbconvert_exporter": "python",
   "pygments_lexer": "ipython3",
   "version": "3.10.14"
  }
 },
 "nbformat": 4,
 "nbformat_minor": 5
}
